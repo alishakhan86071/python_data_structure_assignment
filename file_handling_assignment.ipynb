{
  "nbformat": 4,
  "nbformat_minor": 0,
  "metadata": {
    "colab": {
      "provenance": []
    },
    "kernelspec": {
      "name": "python3",
      "display_name": "Python 3"
    },
    "language_info": {
      "name": "python"
    }
  },
  "cells": [
    {
      "cell_type": "markdown",
      "source": [
        "1.  What is the difference between interpreted and compiled languages?\n",
        "ans. Interpreted language:It is a programming language where the code is executed line by line at runtime without prior compilation.\n",
        " Compiled language: In this programmming language source code is converted into machine code before execution.\n",
        "\n",
        "2. What is exception handling in Python?ans. Exception Handling in python is the way how we manage and respond to errors while execution of a program without crashing it.\n",
        "\n",
        "3.  What is the purpose of the finally block in exception handling?\n",
        "ans. The finally block is used to write the code which must be executed no matter if an exception is caught or not.\n",
        "\n",
        "4.  What is logging in Python?\n",
        "ans. logging in python is a process of recording messages that describe events or errors, typically for developers to identify issues.\n",
        "\n",
        "5.  What is the significance of the __del__ method in Python?\n",
        "ans. The __del__ method is a special or magic method in python used to define behaviour when the object is being destroyed.\n",
        "\n",
        "6.  What is the difference between import and from ... import in Python?\n",
        "ans. \"import\" is used to bring the entire module or package in a program while \"from...import\" is used to bring the specific part of module or package.\n",
        "\n",
        "7.  How can you handle multiple exceptions in Python?\n",
        "ans. for handling multiple exceptions in python we can either use multiple \"except\" clauses or we can use generic \"Exception\" class for handling errors.\n",
        "\n",
        "8.  What is the purpose of the with statement when handling files in Python?\n",
        "ans. The \"with \" statement in python is used to wrap the file operations in context manager, which ensures that the resources are properly managed and are automatically opened and closed even if an error occur.\n",
        "\n",
        "9.  What is the difference between multithreading and multiprocessing?\n",
        "ans. Multithreading: It includes running multiple threads on the same process each sharing same memory space.\n",
        "multiprocessing: Multiple processses are running independently each with separate memory space.\n",
        "\n",
        "10.  What are the advantages of using logging in a program?\n",
        "ans.logging lets us track errors, events or behavious in real time and also store that in file which makes debugging easier keeping a history of isssues.\n",
        "\n",
        "11.  What is memory management in Python?\n",
        "ans. Memory management in python refer to automatic handling of allocation and deallocation of memory through mechanism like garbage collection. This ensures that memory is used efficiently and should be released when no longer used.\n",
        "\n",
        "12.  What are the basic steps involved in exception handling in Python?\n",
        "ans. exception handling in python generally involves 3 steps:\n",
        "try- it contains the code which might raise an error\n",
        "except- if an error is encountered , the except block will take the error and manage it gracefully\n",
        "else- if no error is encountered, else block will be executed confirming that the program is executed smoothly.\n",
        "\n",
        "13.  Why is memory management important in Python?\n",
        "ans. memory management in python is important because it keeps our program stable , efficient and scalable.\n",
        "python automatically handle memory management ensuring memory is used efficiently and freed up when no longer used.\n",
        "\n",
        "14. What is the role of try and except in exception handling?\n",
        "ans.try- it contains the code which might raise an error\n",
        "except- if an error is encountered , the except block will take the error and manage it gracefully\n",
        "\n",
        "15. How does Python's garbage collection system work?\n",
        "ans. Python’s garbage collection system is an essential part of its memory management process. It automatically tracks and cleans up unused or unreferenced objects to free up memory space and prevent leaks. The primary mechanism is reference counting—every object has a count of how many variables refer to it. When that count drops to zero, Python knows it's safe to delete the object.\n",
        "\n",
        "16.  What is the purpose of the else block in exception handling?\n",
        "ans else- if no error is encountered, else block will be executed confirming that the program is executed smoothly.\n",
        "\n",
        "17. What are the common logging levels in Python?\n",
        "ans. python generally have 5 logging level:\n",
        "DEBUG\n",
        "INFO\n",
        "WARNING\n",
        "ERROR\n",
        "CRITICAL\n",
        "in which DEBUG being the lowest priority and CRITICAL being the highest.\n",
        "\n",
        "18.  What is the difference between os.fork() and multiprocessing in Python?\n",
        "ans. os.fork() is used to create a new process by copying the current one, but it only works on Linux or macOS. It’s kind of like making a duplicate of your program.\n",
        "\n",
        "multiprocessing  module is easier and works on all systems (including Windows). It helps you create new processes and gives built-in ways for them to share data and work together.\n",
        "\n",
        "19.  What is the importance of closing a file in Python?\n",
        "ans. Closing a file in Python is important because it frees up system resources and ensures that data is properly saved. When you write to a file, the data may be temporarily held in a buffer—closing the file flushes that buffer so the content is actually written to disk. It also helps prevent data corruption, especially when working with multiple files or larger programs.\n",
        "\n",
        "20.  What is the difference between file.read() and file.readline() in Python?\n",
        "ans. file.read(): It reads the entire content of the file and return it as a single string.\n",
        "\n",
        "file.readline(): this on the other hand read the content line by line and return one line at a time without loading everything in memory at once.\n",
        "\n",
        "21.  What is the logging module in Python used for?\n",
        "ans. The logging module in Python is used to record messages during the execution of your programs, helping you monitor what’s happening and diagnose issues.\n",
        "\n",
        "22. What is the os module in Python used for in file handling?\n",
        "ans. The os module in Python is used for interacting with the operating system, especially when working with files and directories. It gives you tools to create, delete, move, rename, and inspect files and folders—all without needing to open them manually\n",
        "\n",
        "23. What are the challenges associated with memory management in Python?\n",
        "ans. In Python, memory management challenges include reference cycles, where objects refer to each other and aren't released; memory leaks from lingering objects in long-running programs; and issues with large data or external libraries that don't use Python’s garbage collector. These can lead to high memory usage, slowdowns, or crashes.\n",
        "\n",
        "24. How do you raise an exception manually in Python?\n",
        "ans. we can raise an exception in python using \"raise \" keyword.\n",
        "x = -5\n",
        "if x < 0:\n",
        "    raise ValueError(\"x cannot be negative\")\n",
        "\n",
        "25.  Why is it important to use multithreading in certain applications?\n",
        "ans. Multithreading is important in certain applications because it helps your program do multiple tasks at once, making it faster and more responsive—especially when handling I/O operations, network requests, or user interactions.\n"
      ],
      "metadata": {
        "id": "CYWF3nHd6HBt"
      }
    },
    {
      "cell_type": "code",
      "source": [
        "##1  How can you open a file for writing in Python and write a string to it\n",
        "with open(\"example.txt\",\"w\") as file:\n",
        "  file.write(\"hello\")\n",
        "  file.write(\"my name is alisha\")\n",
        "  file.write(\"this is my file\")"
      ],
      "metadata": {
        "id": "tUR6LAIGFH51"
      },
      "execution_count": 3,
      "outputs": []
    },
    {
      "cell_type": "code",
      "source": [
        "##2 Write a Python program to read the contents of a file and print each line\n",
        "with open(\"example.txt\",\"r\") as file:\n",
        "  content=file.read()\n",
        "print(content)"
      ],
      "metadata": {
        "colab": {
          "base_uri": "https://localhost:8080/"
        },
        "id": "fWPHJTHnFaGr",
        "outputId": "9919fce4-3956-4b57-ac75-4f8ffb9af0ab"
      },
      "execution_count": 5,
      "outputs": [
        {
          "output_type": "stream",
          "name": "stdout",
          "text": [
            "hellomy name is alishathis is my file\n"
          ]
        }
      ]
    },
    {
      "cell_type": "code",
      "source": [
        "##3 How would you handle a case where the file doesn't exist while trying to open it for reading\n",
        "try:\n",
        "    with open(\"missing_file.txt\", \"r\") as file:\n",
        "        content = file.read()\n",
        "except FileNotFoundError:\n",
        "    print(\"Oops! The file doesn't exist.\")\n",
        "##we will put that in try and except block to handle this type of situation\n"
      ],
      "metadata": {
        "colab": {
          "base_uri": "https://localhost:8080/"
        },
        "id": "NehL3hcwFaI4",
        "outputId": "1be97f44-173e-4e47-8c2f-4045c03ef19f"
      },
      "execution_count": 6,
      "outputs": [
        {
          "output_type": "stream",
          "name": "stdout",
          "text": [
            "Oops! The file doesn't exist.\n"
          ]
        }
      ]
    },
    {
      "cell_type": "code",
      "source": [
        "##4Write a Python script that reads from one file and writes its content to another file\n",
        "with open(\"example.txt\",\"r\") as file:\n",
        "  content=file.read()\n",
        "with open(\"destination.txt\",\"w\") as file:\n",
        "  file.write(content)\n",
        "print(\"copied successfully\")"
      ],
      "metadata": {
        "colab": {
          "base_uri": "https://localhost:8080/"
        },
        "id": "UF-ihF4gFaLy",
        "outputId": "5e379dbe-1da6-4ea5-aa2d-3b983fdef3a4"
      },
      "execution_count": 7,
      "outputs": [
        {
          "output_type": "stream",
          "name": "stdout",
          "text": [
            "copied successfully\n"
          ]
        }
      ]
    },
    {
      "cell_type": "code",
      "source": [
        "##5 How would you catch and handle division by zero error in Python\n",
        "try:\n",
        "  result=10/0\n",
        "except ZeroDivisionError as e:\n",
        "  print(\"Divison by zero not possible\")"
      ],
      "metadata": {
        "colab": {
          "base_uri": "https://localhost:8080/"
        },
        "id": "ProIyxUHFaPJ",
        "outputId": "952d6648-1c85-40f8-bcea-bbbf30f41bf1"
      },
      "execution_count": 8,
      "outputs": [
        {
          "output_type": "stream",
          "name": "stdout",
          "text": [
            "Divison by zero not possible\n"
          ]
        }
      ]
    },
    {
      "cell_type": "code",
      "source": [
        "##6 Write a Python program that logs an error message to a log file when a division by zero exception occurs\n",
        "import logging\n",
        "logging.basicConfig(filename=\"test.log\",level=logging.INFO)\n",
        "\n",
        "def division(x,y):\n",
        "  try:\n",
        "    result=x/y\n",
        "    print(result)\n",
        "  except ZeroDivisionError:\n",
        "    logging.error(\"cannot divide by zero\")\n",
        "    print(\"zero division error\")\n",
        "\n",
        "division(2,0)"
      ],
      "metadata": {
        "colab": {
          "base_uri": "https://localhost:8080/"
        },
        "id": "6vKf8qB8FaR1",
        "outputId": "a5de6b99-2057-4cf0-ed5d-e4832a596ee6"
      },
      "execution_count": 9,
      "outputs": [
        {
          "output_type": "stream",
          "name": "stderr",
          "text": [
            "ERROR:root:cannot divide by zero\n"
          ]
        },
        {
          "output_type": "stream",
          "name": "stdout",
          "text": [
            "zero division error\n"
          ]
        }
      ]
    },
    {
      "cell_type": "code",
      "source": [
        "##7 How do you log information at different levels (INFO, ERROR, WARNING) in Python using the logging module\n",
        "import logging\n",
        "logging.basicConfig(filename=\"test1.log\", level=logging.INFO)\n",
        "logging.info(\"this is info\")\n",
        "logging.debug(\"this is debug\")\n",
        "logging.warning(\"this is warning\")"
      ],
      "metadata": {
        "colab": {
          "base_uri": "https://localhost:8080/"
        },
        "id": "FCsVHi1LFaV6",
        "outputId": "66792bf9-e544-4e13-99aa-73dd138b536a"
      },
      "execution_count": 10,
      "outputs": [
        {
          "output_type": "stream",
          "name": "stderr",
          "text": [
            "WARNING:root:this is warning\n"
          ]
        }
      ]
    },
    {
      "cell_type": "code",
      "source": [
        "##8Write a program to handle a file opening error using exception handling\n",
        "try:\n",
        "  with open(\"example1.txt\",\"r\") as file:\n",
        "    content=file.read()\n",
        "except FileNotFoundError as ex:\n",
        "  print(\"the file doest nt exist\")"
      ],
      "metadata": {
        "colab": {
          "base_uri": "https://localhost:8080/"
        },
        "id": "ac-urBg4FaYZ",
        "outputId": "edb21c28-0e1f-4e2d-94ff-09558aadba2d"
      },
      "execution_count": 12,
      "outputs": [
        {
          "output_type": "stream",
          "name": "stdout",
          "text": [
            "the file doest nt exist\n"
          ]
        }
      ]
    },
    {
      "cell_type": "code",
      "source": [
        "##9 How can you read a file line by line and store its content in a list in Python\n",
        "with open(\"example.txt\",\"r\") as file:\n",
        "  lines=file.readlines()\n",
        "print(lines)"
      ],
      "metadata": {
        "colab": {
          "base_uri": "https://localhost:8080/"
        },
        "id": "bhI0O4c0I7Oq",
        "outputId": "639beb24-b7da-4c58-dad4-ff1a994b8f07"
      },
      "execution_count": 13,
      "outputs": [
        {
          "output_type": "stream",
          "name": "stdout",
          "text": [
            "['hellomy name is alishathis is my file']\n"
          ]
        }
      ]
    },
    {
      "cell_type": "code",
      "source": [
        "##10How can you append data to an existing file in Python?\n",
        "with open(\"example.txt\",\"a\") as file:\n",
        "  file.write(\"the next line is added at end\")"
      ],
      "metadata": {
        "id": "-HYbietoI7RL"
      },
      "execution_count": 14,
      "outputs": []
    },
    {
      "cell_type": "code",
      "source": [
        "##11 Write a Python program that uses a try-except block to handle an error when attempting to access a\n",
        "##dictionary key that doesn't exist\n",
        "student = {'name': 'Alisha','course': 'BCA','year': 2}\n",
        "try:\n",
        "    grade = student['grade']\n",
        "    print(f\"Grade: {grade}\")\n",
        "except KeyError as e:\n",
        "    print(f\"Error: The key '{e}' was not found in the dictionary.\")"
      ],
      "metadata": {
        "colab": {
          "base_uri": "https://localhost:8080/"
        },
        "id": "-yatnT3nI7TY",
        "outputId": "a2576b82-71e7-4579-f1b8-80c9587b6be9"
      },
      "execution_count": 15,
      "outputs": [
        {
          "output_type": "stream",
          "name": "stdout",
          "text": [
            "Error: The key ''grade'' was not found in the dictionary.\n"
          ]
        }
      ]
    },
    {
      "cell_type": "code",
      "source": [
        "##12 Write a program that demonstrates using multiple except blocks to handle different types of exceptions\n",
        "try:\n",
        "  result=10/0\n",
        "except ZeroDivisionError as e:\n",
        "  print(\"division by zero not possible\")\n",
        "except ValueError as e1:\n",
        "  print(e1)"
      ],
      "metadata": {
        "colab": {
          "base_uri": "https://localhost:8080/"
        },
        "id": "BG-6qfSbI7Vo",
        "outputId": "927d380e-8210-4cee-c9b1-096eb930bd42"
      },
      "execution_count": 16,
      "outputs": [
        {
          "output_type": "stream",
          "name": "stdout",
          "text": [
            "division by zero not possible\n"
          ]
        }
      ]
    },
    {
      "cell_type": "code",
      "source": [
        "##13 How would you check if a file exists before attempting to read it in Python\n",
        "import os\n",
        "file_path = 'example.txt'\n",
        "if os.path.exists(file_path):\n",
        "    with open(file_path, 'r') as file:\n",
        "        content = file.read()\n",
        "        print(content)\n",
        "else:\n",
        "    print(\"File not found.\")\n"
      ],
      "metadata": {
        "colab": {
          "base_uri": "https://localhost:8080/"
        },
        "id": "c7RjJt67I7Xw",
        "outputId": "caab194e-159f-4699-be8a-c8447a5462de"
      },
      "execution_count": 17,
      "outputs": [
        {
          "output_type": "stream",
          "name": "stdout",
          "text": [
            "hellomy name is alishathis is my filethe next line is added at end\n"
          ]
        }
      ]
    },
    {
      "cell_type": "code",
      "source": [
        "##!4Write a program that uses the logging module to log both informational and error message\n",
        "import logging\n",
        "logging.basicConfig(filename=\"test2.log\",level=logging.INFO)\n",
        "logging.info(\"program started\")\n",
        "try:\n",
        "  result=10/0\n",
        "except ZeroDivisionError as e:\n",
        "  logging.error(\"zero divison error\")"
      ],
      "metadata": {
        "colab": {
          "base_uri": "https://localhost:8080/"
        },
        "id": "-R3HZ_-KK_yc",
        "outputId": "389fb35f-9eca-4bbe-9936-27b725434153"
      },
      "execution_count": 18,
      "outputs": [
        {
          "output_type": "stream",
          "name": "stderr",
          "text": [
            "ERROR:root:zero divison error\n"
          ]
        }
      ]
    },
    {
      "cell_type": "code",
      "source": [
        "##15 Write a Python program that prints the content of a file and handles the case when the file is empty\n",
        "import os\n",
        "file_path=\"example2.txt\"\n",
        "if os.path.isfile(file_path):\n",
        "  if os.path.getsize(file_path)==0:\n",
        "    print(\"file is empty\")\n",
        "  else:\n",
        "    with open(file_path,'r') as file:\n",
        "      content=file.read\n",
        "      print(\"file content\\n\")\n",
        "      print(content)\n",
        "else:\n",
        "  print(f\"{file_path} is not  found\")\n"
      ],
      "metadata": {
        "colab": {
          "base_uri": "https://localhost:8080/"
        },
        "id": "cBCE5VWXK_0n",
        "outputId": "f8eb9fc1-dd1c-49e7-8638-a936722a9bc1"
      },
      "execution_count": 20,
      "outputs": [
        {
          "output_type": "stream",
          "name": "stdout",
          "text": [
            "example2.txt is not  found\n"
          ]
        }
      ]
    },
    {
      "cell_type": "code",
      "source": [
        "##16 Demonstrate how to use memory profiling to check the memory usage of a small program\n"
      ],
      "metadata": {
        "id": "tJApJ09CK_3E"
      },
      "execution_count": null,
      "outputs": []
    },
    {
      "cell_type": "code",
      "source": [
        "##17 Write a Python program to create and write a list of numbers to a file, one number per line\n",
        "numbers=[1,2,3,4,5]\n",
        "with open(\"number.txt\",\"w\") as file:\n",
        "  for number in numbers:\n",
        "    file.write(f\"{number}\\n\")\n",
        "with open(\"number.txt\",\"r\") as file:\n",
        "  content=file.read()\n",
        "  print(content)"
      ],
      "metadata": {
        "colab": {
          "base_uri": "https://localhost:8080/"
        },
        "id": "aNLhmfVHK_5r",
        "outputId": "503b0a05-5072-4477-c21e-5f79721098b9"
      },
      "execution_count": 21,
      "outputs": [
        {
          "output_type": "stream",
          "name": "stdout",
          "text": [
            "1\n",
            "2\n",
            "3\n",
            "4\n",
            "5\n",
            "\n"
          ]
        }
      ]
    },
    {
      "cell_type": "code",
      "source": [
        "##18 How would you implement a basic logging setup that logs to a file with rotation after 1MB\n"
      ],
      "metadata": {
        "id": "q0vr-ZQmOYuj"
      },
      "execution_count": null,
      "outputs": []
    },
    {
      "cell_type": "code",
      "source": [
        "##19 Write a program that handles both IndexError and KeyError using a try-except block\n",
        "\n",
        "colors = ['red', 'green', 'blue']\n",
        "info = {'name': 'Alisha', 'language': 'Python'}\n",
        "\n",
        "try:\n",
        "    print(\"Favorite color:\", colors[1])\n",
        "    print(\"Mystery color:\", colors[10])\n",
        "    print(\"Framework:\", info['framework'])\n",
        "except IndexError:\n",
        "    print(\"Oops! Tried to access a list index that doesn't exist.\")\n",
        "except KeyError:\n",
        "    print(\"Oops! Tried to access a key that isn't in the dictionary.\")\n",
        ""
      ],
      "metadata": {
        "colab": {
          "base_uri": "https://localhost:8080/"
        },
        "id": "sxzhDC-LOYxC",
        "outputId": "71b23d49-ec33-40f9-abaf-e9960fd88fc4"
      },
      "execution_count": 22,
      "outputs": [
        {
          "output_type": "stream",
          "name": "stdout",
          "text": [
            "Favorite color: green\n",
            "Oops! Tried to access a list index that doesn't exist.\n"
          ]
        }
      ]
    },
    {
      "cell_type": "code",
      "source": [
        "##20 How would you open a file and read its contents using a context manager in Python\n",
        "\n",
        "with open('example.txt', 'r') as file:\n",
        "    content = file.read()\n",
        "    print(content)"
      ],
      "metadata": {
        "colab": {
          "base_uri": "https://localhost:8080/"
        },
        "id": "P3l3dwTcOY0J",
        "outputId": "4cf8ceb3-0a03-4162-aec1-bf02bc0af989"
      },
      "execution_count": 23,
      "outputs": [
        {
          "output_type": "stream",
          "name": "stdout",
          "text": [
            "hellomy name is alishathis is my filethe next line is added at end\n"
          ]
        }
      ]
    },
    {
      "cell_type": "code",
      "source": [
        "##21Write a Python program that reads a file and prints the number of occurrences of a specific word\n",
        "count=0\n",
        "word=\"hello\"\n",
        "with open(\"example.txt\",\"r\") as file:\n",
        "  for line in file:\n",
        "    count += line.lower().split().count(word.lower())\n",
        "\n",
        "  print(f\"{word}:{count}\")\n"
      ],
      "metadata": {
        "colab": {
          "base_uri": "https://localhost:8080/"
        },
        "id": "SjubIaThPRI5",
        "outputId": "b7c486ef-821c-4fc1-b87c-241d2fcb3d96"
      },
      "execution_count": 30,
      "outputs": [
        {
          "output_type": "stream",
          "name": "stdout",
          "text": [
            "hello:0\n"
          ]
        }
      ]
    },
    {
      "cell_type": "code",
      "source": [
        "##22 How can you check if a file is empty before attempting to read its contents\n",
        "import os\n",
        "file_path=\"example.txt\"\n",
        "\n",
        "if os.path.exists(file_path):\n",
        "  if os.path.getsize(file_path)==0:\n",
        "    print(\"file is empty\")\n",
        "  else:\n",
        "    with open(file_path,'r') as file:\n",
        "      content=file.read()\n",
        "      print(content)\n",
        "else:\n",
        "  print(\"file doest not exisr\")"
      ],
      "metadata": {
        "colab": {
          "base_uri": "https://localhost:8080/"
        },
        "id": "-_VGNNm1PRMj",
        "outputId": "c0a272d3-2901-44b1-f81f-aed5fd9b16cf"
      },
      "execution_count": 32,
      "outputs": [
        {
          "output_type": "stream",
          "name": "stdout",
          "text": [
            "hellomy name is alishathis is my filethe next line is added at end\n"
          ]
        }
      ]
    },
    {
      "cell_type": "code",
      "source": [
        "##23Write a Python program that writes to a log file when an error occurs during file handling\n",
        "import logging\n",
        "logging.basicConfig(filename=\"test3.log\",level=logging.ERROR)\n",
        "\n",
        "try:\n",
        "  with open(\"example3.txt\",\"r\") as file:\n",
        "    content=file.read()\n",
        "    print(content)\n",
        "except FileNotFoundError as ex:\n",
        "  logging.error(\"file does not exist\")\n",
        "except Exception as e:\n",
        "  logging.error(\"unexpected error occurred\")"
      ],
      "metadata": {
        "colab": {
          "base_uri": "https://localhost:8080/"
        },
        "id": "7xQmlHK1RuFP",
        "outputId": "16e8f831-d91d-4bea-c468-6b341148e240"
      },
      "execution_count": 33,
      "outputs": [
        {
          "output_type": "stream",
          "name": "stderr",
          "text": [
            "ERROR:root:file does not exist\n"
          ]
        }
      ]
    }
  ]
}