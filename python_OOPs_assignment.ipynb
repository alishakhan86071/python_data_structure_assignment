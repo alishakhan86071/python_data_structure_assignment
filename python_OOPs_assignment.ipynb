{
  "nbformat": 4,
  "nbformat_minor": 0,
  "metadata": {
    "colab": {
      "provenance": []
    },
    "kernelspec": {
      "name": "python3",
      "display_name": "Python 3"
    },
    "language_info": {
      "name": "python"
    }
  },
  "cells": [
    {
      "cell_type": "code",
      "execution_count": null,
      "metadata": {
        "id": "zURRWxZjh1Zz"
      },
      "outputs": [],
      "source": []
    },
    {
      "cell_type": "markdown",
      "source": [
        "1.  What is Object-Oriented Programming (OOP)?\n",
        "Ans. Object oriented programming is a way of writing code that is mainly based on objects. Its features include abstraction, polymorphism, inheritance and encapsulation.\n",
        "\n",
        "2. What is a class in OOP?\n",
        "ans. A class in OOP is like template that we used to defien something\n",
        "for ex: we created a class named \"student\" and it has each student have data like name, roll_no etc.\n",
        "\n",
        "3.What is an object in OOP?\n",
        "Ans. n object in Object-Oriented Programming (OOP) is a real-world instance created from a class.\n",
        "\n",
        "4. What is the difference between abstraction and encapsulation?\n",
        "Ans. abstration is the feature which show only the important details and hides the internal logic while encapsulation is the process of wrapping the data and method together.\n",
        "\n",
        "5. What are dunder methods in Python?\n",
        "Ans. Any method with double underscore is known as dunder method.\n",
        "ex: __init__()\n",
        "\n",
        "6.  Explain the concept of inheritance in OOP?\n",
        "ans. inheritance is the process of deriving the features of parent class to the main class. there are various types of inheritance like single inheritance, multiple inheritance etc.\n",
        "\n",
        "7. What is polymorphism in OOP?\n",
        "ans. The word polymorphism stands for one in many form. It means that one function can have different behaviour based on the object\n",
        "\n",
        "8. How is encapsulation achieved in Python?\n",
        "ans.Encapsulation is python is achieved by restricting access to internal variables and methods while allowing controlled interaction with public methods.\n",
        "\n",
        "9. What is a constructor in Python?\n",
        "ans.A constructor in Python is a special method used to initialize objects of a class when they're created.\n",
        "\n",
        "10.  What are class and static methods in Python?\n",
        "\n",
        "ans. class method can modify class-level data and be used as an alternative constructor.\n",
        "static method  are used for general-purpose logic related to the class but not tied to its data.\n",
        "\n",
        "11.  What is method overloading in Python?\n",
        "ans. Method Overloading means defining multiple methods with the same name but different parameters\n",
        "\n",
        "12. what is method overriding in OOP?\n",
        "ans. method overriding helps when a child provide its own version of the method which is already defined in the parent class.\n",
        "\n",
        "13. What is a property decorator in Python?\n",
        "Ans. The property decorator lets us access methods like attributes.\n",
        "\n",
        "14. Why is polymorphism important in OOP?\n",
        "Ans. Polymorphism is important in OOP because we can create a multiple object and using polymorphism we don't have to write the same code again and again for different objects.\n",
        "\n",
        "15. What is an abstract class in Python?\n",
        "Ans An abstract class in Python is a blueprint for other classes — it defines methods that must be implemented by child classes but does not provide full behavior itself.\n",
        "\n",
        "16.  What are the advantages of OOP?\n",
        "Ans. Advantages of OOP include:\n",
        "-Modularity\n",
        "-Reusability\n",
        "-Abstraction\n",
        "-Inheritance\n",
        "-Encapsulation\n",
        "-Polymorphism,etc\n",
        "\n",
        "17.  What is the difference between a class variable and an instance variable?\n",
        "Ans class variable is shared accross all instances of the class and it is defined outside any function, while instance variable is unique to each object of the class.\n",
        "\n",
        "18. What is multiple inheritance in Python?\n",
        "ans. when a child class inherits the features of multiple parent class, then it is known as multiple inheritance.\n",
        "\n",
        "19.  Explain the purpose of ‘’__str__’ and ‘__repr__’ ‘ methods in Python?\n",
        "ans. __str__ returns a readable and clean string\n",
        "__repr__ returns a precise string.\n",
        "\n",
        "20. What is the significance of the ‘super()’ function in Python?\n",
        "ans.The super() function in Python is used to give child classes access to methods from their parent classes.\n",
        "\n",
        "21.  What is the significance of the __del__ method in Python?\n",
        "Ans.  The __del__ method in Python is a destructor .It is called automatically when an object is about to be destroyed.\n",
        "\n",
        "22.  What is the difference between @staticmethod and @classmethod in Python?\n",
        "Ans. static method does not take anything as there argument while classmethod take cls as their first argument.\n",
        "\n",
        "23.  How does polymorphism work in Python with inheritance?\n",
        "ans.  In Python, polymorphism with inheritance lets child classes customize or override methods from their parent class .\n",
        "\n",
        "24.  What is method chaining in Python OOP?\n",
        "ans. Method chaining in Python OOP is a technique where multiple methods are called one after the other on the same object — all in a single line.\n",
        "\n",
        "25.  What is the purpose of the __call__ method in Python?\n",
        "Ans. __call__ is a special method in Python that lets an instance of a class be used like a function — as if you could “call” the object directly.\n",
        "\n",
        "\n",
        "\n",
        "\n",
        "\n",
        "\n",
        "\n"
      ],
      "metadata": {
        "id": "Byf_WjYmh4HZ"
      }
    },
    {
      "cell_type": "code",
      "source": [
        "## 1. Create a parent class Animal with a method speak() that prints a generic message. Create a child class Dog\n",
        "##that overrides the speak() method to print \"Bark!\"\n",
        "class Animal:\n",
        "  def speak(self):\n",
        "    print(\"I am inside class animal\")\n",
        "class Dog(Animal):\n",
        "  def speak(self):\n",
        "    print(\"bark\")\n",
        "\n",
        "obj=Dog()\n",
        "obj.speak()"
      ],
      "metadata": {
        "colab": {
          "base_uri": "https://localhost:8080/"
        },
        "id": "NHg8-Mo2poYF",
        "outputId": "bd231af9-b7d4-4816-83bc-d4148ac86190"
      },
      "execution_count": 2,
      "outputs": [
        {
          "output_type": "stream",
          "name": "stdout",
          "text": [
            "bark\n"
          ]
        }
      ]
    },
    {
      "cell_type": "code",
      "source": [
        "## 2. Write a program to create an abstract class Shape with a method area(). Derive classes Circle and Rectangle\n",
        "##from it and implement the area() method in both\n",
        "class Shape:\n",
        "  def area(self):\n",
        "    print(\"area \")\n",
        "class Circle(Shape):\n",
        "  def area(self,radius):\n",
        "    self.radius=radius\n",
        "    print(\"Area of circle\",3.14*self.radius*self.radius)\n",
        "class Rectangle(Shape):\n",
        "  def area(self, length, breadth):\n",
        "    self.length=length\n",
        "    self.breadth=breadth\n",
        "    print(\"area of rectangle\",length*breadth)\n",
        "circle=Circle()\n",
        "circle.area(3)\n",
        "rectangle=Rectangle()\n",
        "rectangle.area(2,3)"
      ],
      "metadata": {
        "colab": {
          "base_uri": "https://localhost:8080/"
        },
        "id": "l9I2Z0f_qLPO",
        "outputId": "b17c79c5-c786-448e-ec56-4b2882521e00"
      },
      "execution_count": 10,
      "outputs": [
        {
          "output_type": "stream",
          "name": "stdout",
          "text": [
            "Area of circle 28.259999999999998\n",
            "area of rectangle 6\n"
          ]
        }
      ]
    },
    {
      "cell_type": "code",
      "source": [
        "## 3. Implement a multi-level inheritance scenario where a class Vehicle has an attribute type. Derive a class Car\n",
        "##and further derive a class ElectricCar that adds a battery attribute.\n",
        "class Vehicle:\n",
        "  def __init__(self,Type):\n",
        "    self.Type=Type\n",
        "class Car(Vehicle):\n",
        "  def __init__(self, Type, brand):\n",
        "    super().__init__(Type)\n",
        "    self.brand=brand\n",
        "class ElectricCar(Car):\n",
        "  def __init__(self, Type, brand,battery):\n",
        "    super().__init__(Type, brand)\n",
        "    self.battery=battery\n",
        "  def show(self):\n",
        "    print(f\"Type:{self.Type} Brand:{self.brand} Battery:{self.battery}\")\n",
        "ec=ElectricCar(\"car\",\"bmw\",\"electric\")\n",
        "ec.show()\n"
      ],
      "metadata": {
        "colab": {
          "base_uri": "https://localhost:8080/"
        },
        "id": "YZp2jrvGqLSs",
        "outputId": "9493d9cc-0d46-4526-f8f3-f6ace424ce01"
      },
      "execution_count": 27,
      "outputs": [
        {
          "output_type": "stream",
          "name": "stdout",
          "text": [
            "Type:car Brand:bmw Battery:electric\n"
          ]
        }
      ]
    },
    {
      "cell_type": "code",
      "source": [
        "## 4. Demonstrate polymorphism by creating a base class Bird with a method fly(). Create two derived classes\n",
        "##Sparrow and Penguin that override the fly() method.\n",
        "class Bird:\n",
        "  def fly(self):\n",
        "    print(\"Inside Bird class\")\n",
        "class Sparrow(Bird):\n",
        "  def fly(self):\n",
        "    print(\"inside sparrow\")\n",
        "class Penguin(Bird):\n",
        "  def fly(self):\n",
        "    print(\"inside Penguin\")\n",
        "s=Sparrow()\n",
        "s.fly()\n",
        "p=Penguin()\n",
        "p.fly()"
      ],
      "metadata": {
        "colab": {
          "base_uri": "https://localhost:8080/"
        },
        "id": "PWcqOBRdqLUx",
        "outputId": "9d0e257c-dfe5-456d-9c43-7b9b4baef13c"
      },
      "execution_count": 28,
      "outputs": [
        {
          "output_type": "stream",
          "name": "stdout",
          "text": [
            "inside sparrow\n",
            "inside Penguin\n"
          ]
        }
      ]
    },
    {
      "cell_type": "code",
      "source": [
        "##5. Write a program to demonstrate encapsulation by creating a class BankAccount with private attributes\n",
        "##balance and methods to deposit, withdraw, and check balance\n",
        "class BankAccount:\n",
        "  def __init__(self,balance=0):\n",
        "    self.__balance=balance\n",
        "  def deposit(self, amount):\n",
        "    self.amount=amount\n",
        "    self.__balance+=amount\n",
        "    print(f\"{amount} deposited\")\n",
        "  def withdraw(self, amount):\n",
        "    if amount>self.__balance:\n",
        "      print(\"deos not have sufficient amount to withdraw\")\n",
        "    else:\n",
        "      self.__balance-=amount\n",
        "      print(f\"{amount}successfully withdrawn\")\n",
        "  def check_balance(self):\n",
        "    print(f'Remaining amount{self.__balance}')\n",
        "b=BankAccount()\n",
        "b.check_balance()\n",
        "b.deposit(2000)\n",
        "b.check_balance()\n",
        "b.withdraw(5000)\n",
        "b.check_balance()\n"
      ],
      "metadata": {
        "colab": {
          "base_uri": "https://localhost:8080/"
        },
        "id": "ob9qfeBovo7m",
        "outputId": "91f1d21a-ded2-4b25-bfdd-d35001e1d39b"
      },
      "execution_count": 32,
      "outputs": [
        {
          "output_type": "stream",
          "name": "stdout",
          "text": [
            "Remaining amount0\n",
            "2000 deposited\n",
            "Remaining amount2000\n",
            "deos not have sufficient amount to withdraw\n",
            "Remaining amount2000\n"
          ]
        }
      ]
    },
    {
      "cell_type": "code",
      "source": [
        "## 6. Demonstrate runtime polymorphism using a method play() in a base class Instrument. Derive classes Guitar\n",
        "##and Piano that implement their own version of play()\n",
        "class Instrument:\n",
        "  def play(self):\n",
        "    print(\"playing instrument\")\n",
        "class Guitar(Instrument):\n",
        "  def play(self):\n",
        "    print(\"playng guitar\")\n",
        "class Piano(Instrument):\n",
        "  def play(self):\n",
        "    print(\"playing piano\")\n",
        "l1=Guitar()\n",
        "l1.play()\n",
        "l2=Piano()\n",
        "l2.play()"
      ],
      "metadata": {
        "colab": {
          "base_uri": "https://localhost:8080/"
        },
        "id": "RBRb0oDWvo9q",
        "outputId": "4922a77c-eb21-467e-ef3d-1daf2a1194de"
      },
      "execution_count": 34,
      "outputs": [
        {
          "output_type": "stream",
          "name": "stdout",
          "text": [
            "playng guitar\n",
            "playing piano\n"
          ]
        }
      ]
    },
    {
      "cell_type": "code",
      "source": [
        "## 7. Create a class MathOperations with a class method add_numbers() to add two numbers and a static\n",
        "##method subtract_numbers() to subtract two numbers\n",
        "class MathOperations:\n",
        "  @classmethod\n",
        "  def add_numbers(cls,x,y):\n",
        "    print(\"addition\",x+y)\n",
        "  @staticmethod\n",
        "  def subtract_numbers(x,y):\n",
        "    print(\"subtrction\" ,x-y)\n",
        "\n",
        "m=MathOperations()\n",
        "m.add_numbers(2,3)\n",
        "m.subtract_numbers(5,4)\n"
      ],
      "metadata": {
        "colab": {
          "base_uri": "https://localhost:8080/"
        },
        "id": "fABSvqSDvpAu",
        "outputId": "e16431db-caae-4e30-d4cb-25b44a08b376"
      },
      "execution_count": 36,
      "outputs": [
        {
          "output_type": "stream",
          "name": "stdout",
          "text": [
            "addition 5\n",
            "subtrction 1\n"
          ]
        }
      ]
    },
    {
      "cell_type": "code",
      "source": [
        "from os import name\n",
        "##8. Implement a class Person with a class method to count the total number of persons created.\n",
        "class Person:\n",
        "  count=0\n",
        "  def __init__(self,name):\n",
        "    self.name=name\n",
        "    Person.count+=1\n",
        "  @classmethod\n",
        "  def total(cls):\n",
        "    return cls.count\n",
        "\n",
        "p=Person(\"alisha\")\n",
        "p1=Person(\"ikra\")\n",
        "Person.total()"
      ],
      "metadata": {
        "colab": {
          "base_uri": "https://localhost:8080/"
        },
        "id": "fQ0HBG-h0Sbj",
        "outputId": "438e5a53-952d-4253-87f4-6677494dd25f"
      },
      "execution_count": 38,
      "outputs": [
        {
          "output_type": "execute_result",
          "data": {
            "text/plain": [
              "2"
            ]
          },
          "metadata": {},
          "execution_count": 38
        }
      ]
    },
    {
      "cell_type": "code",
      "source": [
        "## 9. Write a class Fraction with attributes numerator and denominator. Override the str method to display the\n",
        "##fraction as \"numerator/denominator\"\n",
        "class Fraction:\n",
        "  def __init__(self,numerator,denominator):\n",
        "    self.numerator=numerator\n",
        "    self.denominator=denominator\n",
        "  def __str__(self):\n",
        "    return f\"{self.numerator}/{self.denominator}\"\n",
        "\n",
        "f=Fraction(3,6)\n",
        "print(f)"
      ],
      "metadata": {
        "colab": {
          "base_uri": "https://localhost:8080/"
        },
        "id": "0Czt3lua1NQD",
        "outputId": "404d7bfa-b1fb-4829-8ce0-5aaebb18a5d9"
      },
      "execution_count": 39,
      "outputs": [
        {
          "output_type": "stream",
          "name": "stdout",
          "text": [
            "3/6\n"
          ]
        }
      ]
    },
    {
      "cell_type": "code",
      "source": [
        "##10. Demonstrate operator overloading by creating a class Vector and overriding the add method to add two\n",
        "##vectors.\n",
        "class Vector:\n",
        "  def __init__(self,x,y):\n",
        "    self.x=x\n",
        "    self.y=y\n",
        "  def __add__(self,other):\n",
        "    return (self.x+other.x , self.y+other.y)\n",
        "\n",
        "v1=Vector(2,3)\n",
        "v2=Vector(3,4)\n",
        "v3=v1+v2\n",
        "print(v3)"
      ],
      "metadata": {
        "colab": {
          "base_uri": "https://localhost:8080/"
        },
        "id": "OFkamXXs1NTu",
        "outputId": "d1b6e803-432e-4d0c-b527-21a4d73e828b"
      },
      "execution_count": 41,
      "outputs": [
        {
          "output_type": "stream",
          "name": "stdout",
          "text": [
            "(5, 7)\n"
          ]
        }
      ]
    },
    {
      "cell_type": "code",
      "source": [
        "## 11. Create a class Person with attributes name and age. Add a method greet() that prints \"Hello, my name is\n",
        "##{name} and I am {age} years old.\n",
        "class Person:\n",
        "  def __init__(self, name, age):\n",
        "    self.name=name\n",
        "    self.age=age\n",
        "  def greet(self):\n",
        "    print(f\"Hello my name is {self.name} and i am {self.age } years old\")\n",
        "p=Person(\"alisha\",20)\n",
        "p.greet()"
      ],
      "metadata": {
        "colab": {
          "base_uri": "https://localhost:8080/"
        },
        "id": "epNT2ka-4yPt",
        "outputId": "c7a5413a-cff7-4848-e9ff-b297e4add394"
      },
      "execution_count": 45,
      "outputs": [
        {
          "output_type": "stream",
          "name": "stdout",
          "text": [
            "Hello my name is alisha and i am 20 years old\n"
          ]
        }
      ]
    },
    {
      "cell_type": "code",
      "source": [
        "## 12. Implement a class Student with attributes name and grades. Create a method average_grade() to compute\n",
        "##the average of the grades\n",
        "class Student:\n",
        "  def __init__(self,name,grades):\n",
        "    self.name=name\n",
        "    self.grades=grades\n",
        "  def average_grade(self):\n",
        "    if self.grades:\n",
        "      return sum(self.grades)/len(self.grades)\n",
        "    else:\n",
        "      return 0.0\n",
        "  def __str__(self):\n",
        "    return f\" {self.name} and Average grade{self.average_grade}\"\n",
        "s=Student(\"alihsa\",[2,3,4])\n",
        "s.average_grade()"
      ],
      "metadata": {
        "colab": {
          "base_uri": "https://localhost:8080/"
        },
        "id": "TFtnkFz34yRu",
        "outputId": "1b8d9fa3-1b88-4e06-fc39-7af67fb8a645"
      },
      "execution_count": 46,
      "outputs": [
        {
          "output_type": "execute_result",
          "data": {
            "text/plain": [
              "3.0"
            ]
          },
          "metadata": {},
          "execution_count": 46
        }
      ]
    },
    {
      "cell_type": "code",
      "source": [
        "## 13. Create a class Rectangle with methods set_dimensions() to set the dimensions and area() to calculate the\n",
        "##area\n",
        "class Rectangle:\n",
        "    def __init__(self):\n",
        "        self.length = 0\n",
        "        self.width = 0\n",
        "\n",
        "    def set_dimensions(self, length, width):\n",
        "        self.length = length\n",
        "        self.width = width\n",
        "\n",
        "    def area(self):\n",
        "        return self.length * self.width\n",
        "\n",
        "    def __str__(self):\n",
        "        return f\"Rectangle ({self.length} x {self.width}) has area: {self.area()}\"\n",
        "r1 = Rectangle()\n",
        "r1.set_dimensions(5, 3)\n",
        "print(r1)"
      ],
      "metadata": {
        "colab": {
          "base_uri": "https://localhost:8080/"
        },
        "id": "6NzvKBT44yVC",
        "outputId": "3ee66e88-70a8-4d82-e0c2-e29512094cbe"
      },
      "execution_count": 47,
      "outputs": [
        {
          "output_type": "stream",
          "name": "stdout",
          "text": [
            "Rectangle (5 x 3) has area: 15\n"
          ]
        }
      ]
    },
    {
      "cell_type": "code",
      "source": [
        "## 14. Create a class Employee with a method calculate_salary() that computes the salary based on hours worked\n",
        "##and hourly rate. Create a derived class Manager that adds a bonus to the salary\n",
        "class Employee:\n",
        "    def __init__(self, name, hours_worked, hourly_rate):\n",
        "        self.name = name\n",
        "        self.hours_worked = hours_worked\n",
        "        self.hourly_rate = hourly_rate\n",
        "\n",
        "    def calculate_salary(self):\n",
        "        return self.hours_worked * self.hourly_rate\n",
        "\n",
        "    def __str__(self):\n",
        "        return f\"{self.name} - Salary: ₹{self.calculate_salary():.2f}\"\n",
        "\n",
        "\n",
        "class Manager(Employee):\n",
        "    def __init__(self, name, hours_worked, hourly_rate, bonus):\n",
        "        super().__init__(name, hours_worked, hourly_rate)\n",
        "        self.bonus = bonus\n",
        "\n",
        "    def calculate_salary(self):\n",
        "        base_salary = super().calculate_salary()\n",
        "        return base_salary + self.bonus\n",
        "\n",
        "    def __str__(self):\n",
        "        return f\"{self.name} (Manager) - Salary with Bonus: ₹{self.calculate_salary():.2f}\"\n",
        "emp1 = Employee(\"Alisha\", 40, 200)\n",
        "mgr1 = Manager(\"Khan\", 45, 250, 3000)\n",
        "\n",
        "print(emp1)\n",
        "print(mgr1)"
      ],
      "metadata": {
        "colab": {
          "base_uri": "https://localhost:8080/"
        },
        "id": "tI40ysqw7CuO",
        "outputId": "43443031-bee1-497c-9cf3-7f3de48fc19a"
      },
      "execution_count": 48,
      "outputs": [
        {
          "output_type": "stream",
          "name": "stdout",
          "text": [
            "Alisha - Salary: ₹8000.00\n",
            "Khan (Manager) - Salary with Bonus: ₹14250.00\n"
          ]
        }
      ]
    },
    {
      "cell_type": "code",
      "source": [
        "##15. Create a class Product with attributes name, price, and quantity. Implement a method total_price() that\n",
        "##calculates the total price of the product\n",
        "class Product:\n",
        "  def __init__(self, name, price, quantity):\n",
        "    self.name=name\n",
        "    self.price=price\n",
        "    self.quantity=quantity\n",
        "  def total_price(self):\n",
        "    print(f\"Total price of {self.name}\")\n",
        "    return self.price*self.quantity\n",
        "\n",
        "a=Product(\"oil\",2,7)\n",
        "a.total_price()"
      ],
      "metadata": {
        "colab": {
          "base_uri": "https://localhost:8080/"
        },
        "id": "u-auOmlD7Cv_",
        "outputId": "30656063-5569-4803-84cf-2dfb370d39e0"
      },
      "execution_count": 51,
      "outputs": [
        {
          "output_type": "stream",
          "name": "stdout",
          "text": [
            "pric of oil\n"
          ]
        },
        {
          "output_type": "execute_result",
          "data": {
            "text/plain": [
              "14"
            ]
          },
          "metadata": {},
          "execution_count": 51
        }
      ]
    },
    {
      "cell_type": "code",
      "source": [
        "## 16. Create a class Animal with an abstract method sound(). Create two derived classes Cow and Sheep that\n",
        "##implement the sound() method\n",
        "class Animal:\n",
        "  def sound():\n",
        "    pass\n",
        "class Cow(Animal):\n",
        "  def sound(self):\n",
        "    print(\"i am cow\")\n",
        "class Sheep(Animal):\n",
        "  def sound(self):\n",
        "    print(\"i am shep\")\n",
        "\n",
        "c=Cow()\n",
        "c.sound()\n",
        "s=Sheep()\n",
        "s.sound()"
      ],
      "metadata": {
        "colab": {
          "base_uri": "https://localhost:8080/"
        },
        "id": "vo7i74Vw7Czg",
        "outputId": "da4e786f-b05f-43e2-c5d5-104287b9574c"
      },
      "execution_count": 52,
      "outputs": [
        {
          "output_type": "stream",
          "name": "stdout",
          "text": [
            "i am cow\n",
            "i am shep\n"
          ]
        }
      ]
    },
    {
      "cell_type": "code",
      "source": [
        "## 17. Create a class Book with attributes title, author, and year_published. Add a method get_book_info() that\n",
        "##returns a formatted string with the book's details\n",
        "class Book:\n",
        "    def __init__(self, title, author, year_published):\n",
        "        self.title = title\n",
        "        self.author = author\n",
        "        self.year_published = year_published\n",
        "\n",
        "    def get_book_info(self):\n",
        "        return f\" '{self.title}' by {self.author} ({self.year_published})\"\n",
        "\n",
        "    def __str__(self):\n",
        "        return self.get_book_info()\n",
        "b1 = Book(\"The Alchemist\", \"Paulo Coelho\", 1988)\n",
        "print(b1)"
      ],
      "metadata": {
        "colab": {
          "base_uri": "https://localhost:8080/"
        },
        "id": "1SU_8w2z8ves",
        "outputId": "a8d886f4-ec9e-4f43-f564-c3518c11872c"
      },
      "execution_count": 54,
      "outputs": [
        {
          "output_type": "stream",
          "name": "stdout",
          "text": [
            " 'The Alchemist' by Paulo Coelho (1988)\n"
          ]
        }
      ]
    },
    {
      "cell_type": "code",
      "source": [
        "## 18. Create a class House with attributes address and price. Create a derived class Mansion that adds an\n",
        "##attribute number_of_rooms\n",
        "class House:\n",
        "    def __init__(self, address, price):\n",
        "        self.address = address\n",
        "        self.price = price\n",
        "\n",
        "    def get_info(self):\n",
        "        return f\"House located at {self.address}, priced at ₹{self.price:.2f}\"\n",
        "\n",
        "\n",
        "class Mansion(House):\n",
        "    def __init__(self, address, price, number_of_rooms):\n",
        "        super().__init__(address, price)\n",
        "        self.number_of_rooms = number_of_rooms\n",
        "\n",
        "    def get_info(self):\n",
        "        return (f\"Mansion at {self.address}, priced at ₹{self.price:.2f}, \"\n",
        "                f\"with {self.number_of_rooms} spacious rooms\")\n",
        "\n",
        "h1 = House(\"Bungalow Road, Delhi\", 5000000)\n",
        "m1 = Mansion(\"Luxury Lane, Mumbai\", 25000000, 12)\n",
        "\n",
        "print(h1.get_info())\n",
        "print(m1.get_info())"
      ],
      "metadata": {
        "colab": {
          "base_uri": "https://localhost:8080/"
        },
        "id": "tyS_F_AI8vin",
        "outputId": "943916b1-35ac-4c52-a1e4-a14dd546ba62"
      },
      "execution_count": 55,
      "outputs": [
        {
          "output_type": "stream",
          "name": "stdout",
          "text": [
            "House located at Bungalow Road, Delhi, priced at ₹5000000.00\n",
            "Mansion at Luxury Lane, Mumbai, priced at ₹25000000.00, with 12 spacious rooms\n"
          ]
        }
      ]
    }
  ]
}