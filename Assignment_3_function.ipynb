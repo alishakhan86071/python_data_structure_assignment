{
  "nbformat": 4,
  "nbformat_minor": 0,
  "metadata": {
    "colab": {
      "provenance": []
    },
    "kernelspec": {
      "name": "python3",
      "display_name": "Python 3"
    },
    "language_info": {
      "name": "python"
    }
  },
  "cells": [
    {
      "cell_type": "markdown",
      "source": [
        "1. What is the difference between a function and a method in Python?\n",
        "Ans. A function is independent block of code that perform a task and can be called directly in program while methods is  a function that is attached to the object and is called using an object.\n",
        "\n",
        "2. . Explain the concept of function arguments and parameters in Python.\n",
        "Ans. Parameters are the names listed in the function definition while arguments are the actual values that we pass to the function while calling it.\n",
        "Ex:\n",
        " def greet(name): # name is parameter\n",
        "   print(\"hello\",name)\n",
        " def greet(alisha) # alisha is argument\n",
        "\n",
        "3. What are the different ways to define and call a function in Python?\n",
        "Ans. Following are the ways to define a function in python:\n",
        " - Normal function:\n",
        "  ex:def greet()\n",
        " - Function with parameter:\n",
        "  ex: def greet(name)\n",
        " - one-line function:\n",
        "  ex:lambda x:x**2\n",
        "\n",
        "  Ways to call a function:\n",
        "\n",
        "  - without argument:\n",
        "   ex:  greet()\n",
        "  - with argument:\n",
        "   ex: greet(\"alisha\")\n",
        "  - calling a lambda function\n",
        "\n",
        "4. 4. What is the purpose of the `return` statement in a Python function?\n",
        "Ans. The return statement is used to send the result back to the place where the function was called.\n",
        " ex: def add(x,y):\n",
        "       return x+y\n",
        "     result= add(2,5)\n",
        "     ## return 7\n",
        "\n",
        "5.  What are iterators in Python and how do they differ from iterables?\n",
        "ans. An iterable is an object that we can loop over like list, strings and tuples while iterator is an object that actually does the looping.\n",
        "for ex:\n",
        " num=[1,2,3]\n",
        " num_iter=iter(num)\n",
        " print(next(num_iter))\n",
        "\n",
        "6.  Explain the concept of generators in Python and how they are defined.\n",
        "Ans. Generaators are special functions in python that returns one value at a time using yield function instead of returning the all values at once. They help save memory and are great for working with large dataset.\n",
        "for ex:\n",
        " def count_up_to(n):\n",
        "    i = 1\n",
        "    while i <= n:\n",
        "        yield i\n",
        "        i += 1\n",
        " 7. What are the advantages of using generators over regular functions?\n",
        " Ans. Generators are used over regular function because they help save memory and are great for working with large dataset.\n",
        "\n",
        " 8.  What is a lambda function in Python and when is it typically used?\n",
        " Ans. A lambda function is a small anonymous function usually defined with lambda keyword.\n",
        " It is usually used for quick, one-line operations specially inside functions like map() and function().\n",
        "\n",
        " 9. Explain the purpose and usage of the `map()` function in Python.\n",
        " Ans. map() function applies a given function to every  item in an iterable like a list and returns a new iterable with the result.\n",
        "  ex:\n",
        "   num=[1,2,3]\n",
        "   sq_num=map(lambda x:x**2,num)\n",
        "   print(list(sq_num))\n",
        "  \n",
        " 10. What is the difference between `map()`, `reduce()`, and `filter()` functions in Python?\n",
        " Ans. map():\n",
        "   - applies to every item in an iterable\n",
        "   - returns new iterable with transformed result\n",
        "   - ex:num=[1,2,3]\n",
        "     sq_num=map(lambda x:x**2,num)\n",
        "     print(list(sq_num))\n",
        "     ## [1,4,9]\n",
        "\n",
        "     reduce():\n",
        "    - reduces an iterable to single value by applying a function cumutatively\n",
        "    - for ex: reduce(lambda x,y:x+y ,[1,2,3])\n",
        "     ## 6\n",
        "    \n",
        "     filter():\n",
        "     - keeps only the item that meet specific condition\n",
        "     - returns new iterable with the filtered data\n",
        "     - ex: filter(lambda x:x>2, [3,2,5])\n",
        "      ## [3,5]\n",
        "\n",
        "\n"
      ],
      "metadata": {
        "id": "1fLhRkT_FBfK"
      }
    },
    {
      "cell_type": "markdown",
      "source": [],
      "metadata": {
        "id": "T2mDQM4kgML0"
      }
    },
    {
      "cell_type": "code",
      "source": [
        "## 1. Write a Python function that takes a list of numbers as input and returns the sum of all even numbers in\n",
        "#the list\n",
        "def sum_even(numbers):\n",
        "  return sum(num for num in numbers if num%2==0 )\n",
        "numbers=[2,3,5,6,8]\n",
        "sum_even(numbers)\n"
      ],
      "metadata": {
        "colab": {
          "base_uri": "https://localhost:8080/"
        },
        "id": "DqAuneKBN-CW",
        "outputId": "622418c0-5ccf-4e6d-ce2a-161ef7461490"
      },
      "execution_count": 12,
      "outputs": [
        {
          "output_type": "execute_result",
          "data": {
            "text/plain": [
              "16"
            ]
          },
          "metadata": {},
          "execution_count": 12
        }
      ]
    },
    {
      "cell_type": "code",
      "source": [
        "# 2. Create a Python function that accepts a string and returns the reverse of that string.\n",
        "def rev_str(str):\n",
        "  return str[::-1]\n",
        "str=\"alisha\"\n",
        "rev_str(str)"
      ],
      "metadata": {
        "colab": {
          "base_uri": "https://localhost:8080/",
          "height": 35
        },
        "id": "IAWyz2jKQB1w",
        "outputId": "42d33859-7b51-4914-fae9-938d17a3f4f3"
      },
      "execution_count": 18,
      "outputs": [
        {
          "output_type": "execute_result",
          "data": {
            "text/plain": [
              "'ahsila'"
            ],
            "application/vnd.google.colaboratory.intrinsic+json": {
              "type": "string"
            }
          },
          "metadata": {},
          "execution_count": 18
        }
      ]
    },
    {
      "cell_type": "code",
      "source": [
        "# 3. Implement a Python function that takes a list of integers and returns a new list containing the squares of\n",
        "#each number.\n",
        "numbers=[1,2,3,4]\n",
        "square= list(map(lambda x:x**2 , numbers))\n",
        "print(square)"
      ],
      "metadata": {
        "colab": {
          "base_uri": "https://localhost:8080/"
        },
        "id": "zTW2xrSHQCH_",
        "outputId": "4a645488-2047-4878-b7e5-48827ae668b1"
      },
      "execution_count": 33,
      "outputs": [
        {
          "output_type": "stream",
          "name": "stdout",
          "text": [
            "[1, 4, 9, 16]\n"
          ]
        }
      ]
    },
    {
      "cell_type": "code",
      "source": [
        "## 4. Write a Python function that checks if a given number is prime or not from 1 to 200.\n",
        "def prime(n):\n",
        "  if n<2:\n",
        "    return False\n",
        "  if n==2:\n",
        "    return True\n",
        "  for i in range(2,n):\n",
        "    if n%i ==0:\n",
        "      return False\n",
        "  return True\n",
        "\n",
        "for num in range(1,201):\n",
        "  if prime(num):\n",
        "    print(num)\n",
        "\n"
      ],
      "metadata": {
        "colab": {
          "base_uri": "https://localhost:8080/"
        },
        "id": "6xP8moRVQCVg",
        "outputId": "ddb6a6c9-c9a4-4c16-ca56-0d43c89e5e04"
      },
      "execution_count": 41,
      "outputs": [
        {
          "output_type": "stream",
          "name": "stdout",
          "text": [
            "2\n",
            "3\n",
            "5\n",
            "7\n",
            "11\n",
            "13\n",
            "17\n",
            "19\n",
            "23\n",
            "29\n",
            "31\n",
            "37\n",
            "41\n",
            "43\n",
            "47\n",
            "53\n",
            "59\n",
            "61\n",
            "67\n",
            "71\n",
            "73\n",
            "79\n",
            "83\n",
            "89\n",
            "97\n",
            "101\n",
            "103\n",
            "107\n",
            "109\n",
            "113\n",
            "127\n",
            "131\n",
            "137\n",
            "139\n",
            "149\n",
            "151\n",
            "157\n",
            "163\n",
            "167\n",
            "173\n",
            "179\n",
            "181\n",
            "191\n",
            "193\n",
            "197\n",
            "199\n"
          ]
        }
      ]
    },
    {
      "cell_type": "code",
      "source": [
        "## 5. Create an iterator class in Python that generates the Fibonacci sequence up to a specified number of\n",
        "#terms.\n",
        "def fibo(limit):\n",
        "  a,b=0,1\n",
        "  for i in range(limit):\n",
        "    yield a\n",
        "    a,b=b,a+b\n",
        "n= int(input(\"enter limit\"))\n",
        "for num in fibo(n):\n",
        "  print(num)\n",
        ""
      ],
      "metadata": {
        "colab": {
          "base_uri": "https://localhost:8080/"
        },
        "id": "Pg6g1NPLU1O8",
        "outputId": "03c94cd3-1c60-48a4-9fc2-cb245615ac65"
      },
      "execution_count": 47,
      "outputs": [
        {
          "output_type": "stream",
          "name": "stdout",
          "text": [
            "enter limit5\n",
            "0\n",
            "1\n",
            "1\n",
            "2\n",
            "3\n"
          ]
        }
      ]
    },
    {
      "cell_type": "code",
      "source": [
        "##6. Write a generator function in Python that yields the powers of 2 up to a given exponent.\n",
        "def power(limit):\n",
        "  a=2\n",
        "  for i in range(limit):\n",
        "    yield a**i\n",
        "    i+=1\n",
        "\n",
        "n= int(input(\"enter limit\"))\n",
        "for num in power(n):\n",
        "  print(num)"
      ],
      "metadata": {
        "colab": {
          "base_uri": "https://localhost:8080/"
        },
        "id": "9k0sYmtXU1l1",
        "outputId": "2a1e088c-49e4-4bf8-ebbc-6672ab69e109"
      },
      "execution_count": 50,
      "outputs": [
        {
          "output_type": "stream",
          "name": "stdout",
          "text": [
            "enter limit7\n",
            "1\n",
            "2\n",
            "4\n",
            "8\n",
            "16\n",
            "32\n",
            "64\n"
          ]
        }
      ]
    },
    {
      "cell_type": "code",
      "source": [
        "## 7. Implement a generator function that reads a file line by line and yields each line as a string.\n",
        "\n",
        "def read_lines(filename):\n",
        "  with open(filename,'r') as file:\n",
        "    for line in file:\n",
        "      yield line.strip()\n",
        "\n",
        "with open(\"example.txt\",'w') as file:\n",
        "  file.write(\"Hello Alisha !\")\n",
        "  file.write(\"how are you\")\n",
        "\n",
        "for text in read_lines(\"example.txt\"):\n",
        "  print(text)\n"
      ],
      "metadata": {
        "colab": {
          "base_uri": "https://localhost:8080/"
        },
        "id": "i9KeHwayXtvF",
        "outputId": "9503b1e9-3eda-4687-d3ae-527efdb4c197"
      },
      "execution_count": 56,
      "outputs": [
        {
          "output_type": "stream",
          "name": "stdout",
          "text": [
            "Hello Alisha !how are you\n"
          ]
        }
      ]
    },
    {
      "cell_type": "code",
      "source": [
        "# 8. Use a lambda function in Python to sort a list of tuples based on the second element of each tuple.\n",
        "pairs = [(1, 3), (2, 1), (4, 2)]\n",
        "sorted_pairs = sorted(pairs, key=lambda x: x[1])\n",
        "print(sorted_pairs)\n"
      ],
      "metadata": {
        "colab": {
          "base_uri": "https://localhost:8080/"
        },
        "id": "9Zm4jd7cXt6a",
        "outputId": "09166ed1-f2dd-437e-9bd3-9bc67c923283"
      },
      "execution_count": 60,
      "outputs": [
        {
          "output_type": "stream",
          "name": "stdout",
          "text": [
            "[(2, 1), (4, 2), (1, 3)]\n"
          ]
        }
      ]
    },
    {
      "cell_type": "code",
      "source": [
        "# 9. Write a Python program that uses `map()` to convert a list of temperatures from Celsius to Fahrenheit.\n",
        "lst=[23,45,24,56]\n",
        "farhen=list(map(lambda x:9/5*x +32 , lst))\n",
        "print(farhen)"
      ],
      "metadata": {
        "colab": {
          "base_uri": "https://localhost:8080/"
        },
        "id": "ouJ4gZ5xbOaY",
        "outputId": "6c9f6332-74b3-4978-9eab-3401a1b568e5"
      },
      "execution_count": 62,
      "outputs": [
        {
          "output_type": "stream",
          "name": "stdout",
          "text": [
            "[73.4, 113.0, 75.2, 132.8]\n"
          ]
        }
      ]
    },
    {
      "cell_type": "code",
      "source": [
        "# 10. Create a Python program that uses `filter()` to remove all the vowels from a given string.\n",
        "str=\"Alisha \"\n",
        "result=\"\"\n",
        "for ch in filter(lambda c:c not in 'AEIOUaeiou', str):\n",
        "  result+=ch\n",
        "print(result)"
      ],
      "metadata": {
        "colab": {
          "base_uri": "https://localhost:8080/"
        },
        "id": "ARE7ZSMBbOpF",
        "outputId": "b29804e1-0f5b-4362-bd69-ab28aba7bc18"
      },
      "execution_count": 64,
      "outputs": [
        {
          "output_type": "stream",
          "name": "stdout",
          "text": [
            "lsh \n"
          ]
        }
      ]
    }
  ]
}