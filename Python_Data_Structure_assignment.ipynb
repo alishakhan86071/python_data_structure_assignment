{
  "nbformat": 4,
  "nbformat_minor": 0,
  "metadata": {
    "colab": {
      "provenance": []
    },
    "kernelspec": {
      "name": "python3",
      "display_name": "Python 3"
    },
    "language_info": {
      "name": "python"
    }
  },
  "cells": [
    {
      "cell_type": "code",
      "execution_count": null,
      "metadata": {
        "id": "caMwIdZPsRPa"
      },
      "outputs": [],
      "source": []
    },
    {
      "cell_type": "markdown",
      "source": [
        "1.  What are data structures, and why are they important?\n",
        "Ans.Data structures are smart ways to organize data so it’s easy to use—like putting clothes in drawers instead of tossing them on the bed.\n",
        "They help our code run faster, save space, and solve problems more easily.\n",
        "\n",
        "2. Explain the difference between mutable and immutable data types with examples.\n",
        "Ans. Mutable datatypes are those datatypes whose content can be changed while immutable datatypes are those datatypes whose content cannot be changed.\n",
        "Ex: list is a mutable datatype and tuple is immutable.\n",
        "\n",
        "3.  What are the main differences between lists and tuples in Python?\n",
        "Ans. The main difference between list and tuple is that list is mutable and tuple is immutable.\n",
        "\n",
        "4. Describe how dictionaries store data.\n",
        "Ans. Dictionary store data in a key value pair in which keys need to be unique.\n",
        "for ex:\n",
        "student = {'name': 'Alisha', 'course': 'BCA'}\n",
        "Here \"name\" and \"course\" are the keys and \"Alisha\" and \"BCA\" are there values respectively.\n",
        "\n",
        "5.  Why might you use a set instead of a list in Python?\n",
        "Ans. One advantage of using set over list in python is that set contain only unique values which means there will be no repition of data.\n",
        "\n",
        "6. What is a string in Python, and how is it different from a list?\n",
        "Ans. - String is a sequence of characters, immutable, used for text data.\n",
        "- List is a collection of elements, mutable, can hold mixed data types.\n",
        "\n",
        "7.  How do tuples ensure data integrity in Python?\n",
        "Ans. Once tuple is created its value cannot be changed, which make it safe from accidental edits.\n",
        "Hence tuples ensure  data integrity .\n",
        "\n",
        "8. What is a hash table, and how does it relate to dictionaries in Python?\n",
        "Ans. A hash table is a data structure that stores key-value pairs and uses a hashing function to quickly look up values based on their keys.\n",
        "In Python, the dict type is actually implemented using a hash table\n",
        "for ex:\n",
        "student = {'name': 'Alisha', 'course': 'BCA'}\n",
        "\n",
        "9. Can lists contain different data types in Python?\n",
        "Ans. Yes , list can contain different types of datatypes in python.\n",
        "for ex:\n",
        " lst1=[1,2,3 ,4,\"Alisha\"]\n",
        "\n",
        "10. Explain why strings are immutable in Python.\n",
        "Ans Strings are immutable in Python because:\n",
        "- They can't be changed after creation.\n",
        "- It ensures data safety, allows hashing, and improves performance.\n",
        "\n",
        "11. What advantages do dictionaries offer over lists for certain tasks?\n",
        "Ans. Dictionaries are better than lists in many ways:\n",
        "- Allow Fast access to data using keys\n",
        "- Clear labels for values and not just index numbers\n",
        "- Unique keys for clean data\n",
        "\n",
        "12.  Describe a scenario where using a tuple would be preferable over a list.\n",
        "Ans. Using a tuple would be preferable over a list when we need to store our password. It would be beneficial because it does not allow accidental edits.\n",
        "\n",
        "13.  How do sets handle duplicate values in Python?\n",
        "Ans. Sets automatically remove duplicate values. If you add repeated value to a set only one copy will be kept.\n",
        "For ex:\n",
        " my_set = {1, 2, 2, 3, 3, 3}\n",
        " print(my_set)  # Output: {1, 2, 3}\n",
        "\n",
        "14.  How does the “in” keyword work differently for lists and dictionaries?\n",
        "Ans. In a list \"in\" check whether a value is present or not but in dictionaries \"in \" check whether a key is present or not.\n",
        "\n",
        "15. Can you modify the elements of a tuple? Explain why or why not.\n",
        "Ans. No we cannot modify the elements of a tuple because tuples are immutable, meaning once they're created, their contents cannot be changed, added to, or removed.\n",
        "\n",
        "16. What is a nested dictionary, and give an example of its use case?\n",
        "Ans. A nested dictionary is a dictionary inside another dictionary. It allows us to store complex, structured data using multiple layers of key-value pairs.\n",
        "for ex:\n",
        " students = {\n",
        "    \"A101\": {\n",
        "        \"name\": \"Alisha\",\n",
        "        \"course\": \"BCA\",\n",
        "        \"marks\": {\"Python\": 85, \"HTML\": 92}\n",
        "    },\n",
        "    \"A102\": {\n",
        "        \"name\": \"Ravi\",\n",
        "        \"course\": \"BCA\",\n",
        "        \"marks\": {\"Python\": 78, \"HTML\": 88}\n",
        "    }\n",
        "}\n",
        "\n",
        "17.  Describe the time complexity of accessing elements in a dictionary.\n",
        "Ans. Accessing elements in a Python dictionary is usually O(1) time — super fast because of hashing. In rare cases with many hash collisions, it can be O(n), but that's uncommon.\n",
        "\n",
        "18.  In what situations are lists preferred over dictionaries?\n",
        "Ans. List are preferred over dictionaries when you need to store ordered data or working with sequential items.\n",
        "\n",
        "19.  Why are dictionaries considered unordered, and how does that affect data retrieval?\n",
        "Ans.Dictionaries in Python are considered unordered because they store data using a hash table and not by sequence. This means:\n",
        "- Keys aren’t stored by position like in a list.\n",
        "- Data retrieval is based on key lookup, not index numbers.\n",
        "Impact:\n",
        "- cannot access data by indexes.\n",
        "- need to know the exact key name for data retrieval.\n",
        "\n",
        "20.  Explain the difference between a list and a dictionary in terms of data retrieval.\n",
        "Ans. In list, data can be retrieved using indexes but this is not possible in dictionaries.\n",
        "In dictionaries, data can be retrieved only if we know the exact key name.\n",
        "\n",
        "\n",
        "\n",
        "\n",
        "\n"
      ],
      "metadata": {
        "id": "D0bTrbc7sjR8"
      }
    },
    {
      "cell_type": "code",
      "source": [
        "#1Write a code to create a string with your name and print it.\n",
        "name=\"alisha\"\n",
        "print(name)"
      ],
      "metadata": {
        "colab": {
          "base_uri": "https://localhost:8080/"
        },
        "id": "syDwKsGQzykC",
        "outputId": "99c14e8b-bd9a-4ffb-8115-0dc08d60960c"
      },
      "execution_count": 1,
      "outputs": [
        {
          "output_type": "stream",
          "name": "stdout",
          "text": [
            "alisha\n"
          ]
        }
      ]
    },
    {
      "cell_type": "code",
      "source": [
        "#Write a code to find the length of the string \"Hello World\"\n",
        "str=\"Hello World\"\n",
        "print(len(str))"
      ],
      "metadata": {
        "colab": {
          "base_uri": "https://localhost:8080/"
        },
        "id": "BIHGH5EAz3e4",
        "outputId": "76018b58-dae7-4e8b-8885-9ece210dea8f"
      },
      "execution_count": 2,
      "outputs": [
        {
          "output_type": "stream",
          "name": "stdout",
          "text": [
            "11\n"
          ]
        }
      ]
    },
    {
      "cell_type": "code",
      "source": [
        "#Write a code to slice the first 3 characters from the string \"Python Programming\n",
        "str=\"Python programming\"\n",
        "print(str[:3])"
      ],
      "metadata": {
        "colab": {
          "base_uri": "https://localhost:8080/"
        },
        "id": "5QHIB3YKz3md",
        "outputId": "ca8bfaeb-d64c-45be-86d8-2046191de6ba"
      },
      "execution_count": 4,
      "outputs": [
        {
          "output_type": "stream",
          "name": "stdout",
          "text": [
            "Pyt\n"
          ]
        }
      ]
    },
    {
      "cell_type": "code",
      "source": [
        "# Write a code to convert the string \"hello\" to uppercase\n",
        "str=\"hello\"\n",
        "print(str.upper())"
      ],
      "metadata": {
        "colab": {
          "base_uri": "https://localhost:8080/"
        },
        "id": "2buQ1tt5z3pN",
        "outputId": "ec5ec6c4-b472-40ce-e8fb-da503be0a09d"
      },
      "execution_count": 6,
      "outputs": [
        {
          "output_type": "stream",
          "name": "stdout",
          "text": [
            "HELLO\n"
          ]
        }
      ]
    },
    {
      "cell_type": "code",
      "source": [
        "# Write a code to replace the word \"apple\" with \"orange\" in the string \"I like apple\"\n",
        "str=\"I like apple\"\n",
        "new_str=str.replace(\"apple\",\"orange\")\n",
        "print(new_str)"
      ],
      "metadata": {
        "colab": {
          "base_uri": "https://localhost:8080/"
        },
        "id": "PTArMq2Qz3r1",
        "outputId": "fcf708a7-4654-4fea-dff5-264a83118d28"
      },
      "execution_count": 8,
      "outputs": [
        {
          "output_type": "stream",
          "name": "stdout",
          "text": [
            "I like orange\n"
          ]
        }
      ]
    },
    {
      "cell_type": "code",
      "source": [
        "# Write a code to create a list with numbers 1 to 5 and print it\n",
        "lst=[1,2,3,4,5]\n",
        "print(lst)"
      ],
      "metadata": {
        "colab": {
          "base_uri": "https://localhost:8080/"
        },
        "id": "1Kd3qaxvz3uK",
        "outputId": "f4f80cc9-4953-4254-f4ee-a728f55f50df"
      },
      "execution_count": 9,
      "outputs": [
        {
          "output_type": "stream",
          "name": "stdout",
          "text": [
            "[1, 2, 3, 4, 5]\n"
          ]
        }
      ]
    },
    {
      "cell_type": "code",
      "source": [
        "#Write a code to append the number 10 to the list [1, 2, 3, 4]\n",
        "lst=[1,2,3,4]\n",
        "lst.append(10)\n",
        "print(lst)"
      ],
      "metadata": {
        "colab": {
          "base_uri": "https://localhost:8080/"
        },
        "id": "u4-_QKxfz3wf",
        "outputId": "b6d2f890-d33d-4b8d-f8b4-3e44a5ce7ab2"
      },
      "execution_count": 10,
      "outputs": [
        {
          "output_type": "stream",
          "name": "stdout",
          "text": [
            "[1, 2, 3, 4, 10]\n"
          ]
        }
      ]
    },
    {
      "cell_type": "code",
      "source": [
        "# Write a code to remove the number 3 from the list [1, 2, 3, 4, 5]\n",
        "lst=[1,2,3,4,5]\n",
        "lst.remove(3)\n",
        "print(lst)"
      ],
      "metadata": {
        "colab": {
          "base_uri": "https://localhost:8080/"
        },
        "id": "tY99uGWCz3y4",
        "outputId": "1cf05741-2ec4-49a5-c48b-c2fe2697b9e8"
      },
      "execution_count": 11,
      "outputs": [
        {
          "output_type": "stream",
          "name": "stdout",
          "text": [
            "[1, 2, 4, 5]\n"
          ]
        }
      ]
    },
    {
      "cell_type": "code",
      "source": [
        "# Write a code to access the second element in the list ['a', 'b', 'c', 'd']\n",
        "lst=['a','b','c','d']\n",
        "print(lst[1]) #second element will be on first index"
      ],
      "metadata": {
        "colab": {
          "base_uri": "https://localhost:8080/"
        },
        "id": "j92chWzoz31Y",
        "outputId": "8fce4b6f-2b31-4ffb-c193-1831125ef891"
      },
      "execution_count": 12,
      "outputs": [
        {
          "output_type": "stream",
          "name": "stdout",
          "text": [
            "b\n"
          ]
        }
      ]
    },
    {
      "cell_type": "code",
      "source": [
        "#Write a code to reverse the list [10, 20, 30, 40, 50].\n",
        "lst=[10,20,30,40,50]\n",
        "reversed_list=lst[::-1]\n",
        "print(reversed_list)"
      ],
      "metadata": {
        "colab": {
          "base_uri": "https://localhost:8080/"
        },
        "id": "vopqXEJ6z34Y",
        "outputId": "8b6bea84-fcde-4bc0-fdba-327695b5b5a2"
      },
      "execution_count": 15,
      "outputs": [
        {
          "output_type": "stream",
          "name": "stdout",
          "text": [
            "[50, 40, 30, 20, 10]\n"
          ]
        }
      ]
    },
    {
      "cell_type": "code",
      "source": [
        "#. Write a code to create a tuple with the elements 100, 200, 300 and print it.\n",
        "tpl=(100,200,300)\n",
        "print(tpl)"
      ],
      "metadata": {
        "colab": {
          "base_uri": "https://localhost:8080/"
        },
        "id": "rOkN9ZM9z36s",
        "outputId": "4f6dcf6d-6cb2-47d2-f493-b318470d623b"
      },
      "execution_count": 16,
      "outputs": [
        {
          "output_type": "stream",
          "name": "stdout",
          "text": [
            "(100, 200, 300)\n"
          ]
        }
      ]
    },
    {
      "cell_type": "code",
      "source": [
        "#12. Write a code to access the second-to-last element of the tuple ('red', 'green', 'blue', 'yellow').\n",
        "tpl=('red','green','blue','yellow')\n",
        "print(tpl[-2])"
      ],
      "metadata": {
        "colab": {
          "base_uri": "https://localhost:8080/"
        },
        "id": "q70JVfHYz3-O",
        "outputId": "b0ab16cd-699b-425a-ae92-871b2776b749"
      },
      "execution_count": 17,
      "outputs": [
        {
          "output_type": "stream",
          "name": "stdout",
          "text": [
            "blue\n"
          ]
        }
      ]
    },
    {
      "cell_type": "code",
      "source": [
        "# 13. Write a code to find the minimum number in the tuple (10, 20, 5, 15).\n",
        "tpl=(10,20,5,15)\n",
        "minimum=min(tpl)\n",
        "print(minimum)\n"
      ],
      "metadata": {
        "colab": {
          "base_uri": "https://localhost:8080/"
        },
        "id": "o8dbKYt3z4Dx",
        "outputId": "c84e3274-b7cc-4efd-df37-830e0b846277"
      },
      "execution_count": 18,
      "outputs": [
        {
          "output_type": "stream",
          "name": "stdout",
          "text": [
            "5\n"
          ]
        }
      ]
    },
    {
      "cell_type": "code",
      "source": [
        "# 14. Write a code to find the index of the element \"cat\" in the tuple ('dog', 'cat', 'rabbit').\n",
        "tpl=('dog','cat','rabbit')\n",
        "index=tpl.index('cat')\n",
        "print(index)\n"
      ],
      "metadata": {
        "colab": {
          "base_uri": "https://localhost:8080/"
        },
        "id": "xiihF2q00ZYI",
        "outputId": "7b279b87-8b09-47f5-9117-79395895a8c5"
      },
      "execution_count": 23,
      "outputs": [
        {
          "output_type": "stream",
          "name": "stdout",
          "text": [
            "1\n"
          ]
        }
      ]
    },
    {
      "cell_type": "code",
      "source": [
        "from re import T\n",
        "# 15. Write a code to create a tuple containing three different fruits and check if \"kiwi\" is in it.\n",
        "tpl=(\"apple\",\"banana\",\"kiwi\")\n",
        "if \"kiwi\" in tpl:\n",
        "  print(\"kiwi is there\")\n",
        "else:\n",
        "  print(\"kiwi is not there\")"
      ],
      "metadata": {
        "colab": {
          "base_uri": "https://localhost:8080/"
        },
        "id": "ji67n2NJ0Zar",
        "outputId": "d3a1a78e-b846-4ac4-f00e-bc5194af7957"
      },
      "execution_count": 24,
      "outputs": [
        {
          "output_type": "stream",
          "name": "stdout",
          "text": [
            "kiwi is there\n"
          ]
        }
      ]
    },
    {
      "cell_type": "code",
      "source": [
        "# 16. Write a code to create a set with the elements 'a', 'b', 'c' and print it.\n",
        "Set={'a','b','c'}\n",
        "print(Set)"
      ],
      "metadata": {
        "colab": {
          "base_uri": "https://localhost:8080/"
        },
        "id": "d2E8PLVg0Zcx",
        "outputId": "ef04dbf0-0859-49bf-e3c1-f1af0533998e"
      },
      "execution_count": 28,
      "outputs": [
        {
          "output_type": "stream",
          "name": "stdout",
          "text": [
            "{'b', 'c', 'a'}\n"
          ]
        }
      ]
    },
    {
      "cell_type": "code",
      "source": [
        "# 17. Write a code to clear all elements from the set {1, 2, 3, 4, 5}.\n",
        "my_set={ 1,2,3,4,5}\n",
        "my_set.clear()\n",
        "print(my_set)\n"
      ],
      "metadata": {
        "colab": {
          "base_uri": "https://localhost:8080/"
        },
        "id": "qh61JR1j0ZhF",
        "outputId": "6c3a76a8-ff6e-4f55-a7ec-05869921b0ed"
      },
      "execution_count": 29,
      "outputs": [
        {
          "output_type": "stream",
          "name": "stdout",
          "text": [
            "set()\n"
          ]
        }
      ]
    },
    {
      "cell_type": "code",
      "source": [
        "# 18. Write a code to remove the element 4 from the set {1, 2, 3, 4}.\n",
        "my_set={ 1,2,3,4}\n",
        "my_set.remove(4)\n",
        "print(my_set)"
      ],
      "metadata": {
        "colab": {
          "base_uri": "https://localhost:8080/"
        },
        "id": "5Z3qggul0Zjx",
        "outputId": "3e8a6a2c-6c76-4bd6-c7d5-37f85cbd326f"
      },
      "execution_count": 30,
      "outputs": [
        {
          "output_type": "stream",
          "name": "stdout",
          "text": [
            "{1, 2, 3}\n"
          ]
        }
      ]
    },
    {
      "cell_type": "code",
      "source": [
        "# 19. Write a code to find the union of two sets {1, 2, 3} and {3, 4, 5}.\n",
        "set1={1,2,3}\n",
        "set2={3,4,5}\n",
        "union_set=set1.union(set2)\n",
        "print(union_set)"
      ],
      "metadata": {
        "colab": {
          "base_uri": "https://localhost:8080/"
        },
        "id": "LOjEuAa80Zlz",
        "outputId": "73d2273c-a52d-4279-dbfd-84ee70015ef8"
      },
      "execution_count": 31,
      "outputs": [
        {
          "output_type": "stream",
          "name": "stdout",
          "text": [
            "{1, 2, 3, 4, 5}\n"
          ]
        }
      ]
    },
    {
      "cell_type": "code",
      "source": [
        "# 20. Write a code to find the intersection of two sets {1, 2, 3} and {2, 3, 4}.\n",
        "set1={1,2,3}\n",
        "set2={3,4,5}\n",
        "intersection_set=set1.intersection(set2)\n",
        "print(intersection_set)\n"
      ],
      "metadata": {
        "colab": {
          "base_uri": "https://localhost:8080/"
        },
        "id": "QWm-mwmP0Zn8",
        "outputId": "bbdb1471-b983-4e11-ceea-ce20956166d2"
      },
      "execution_count": 32,
      "outputs": [
        {
          "output_type": "stream",
          "name": "stdout",
          "text": [
            "{3}\n"
          ]
        }
      ]
    },
    {
      "cell_type": "code",
      "source": [
        "# 21. Write a code to create a dictionary with the keys \"name\", \"age\", and \"city\", and print it.\n",
        "my_dict={\"name\":\"Alisha\",\"age\":20,\"city\":\"meerut\"}\n",
        "print(my_dict)"
      ],
      "metadata": {
        "colab": {
          "base_uri": "https://localhost:8080/"
        },
        "id": "2hmfAhb10qT_",
        "outputId": "84bcd4cb-2a27-44fc-8afc-7767172a2457"
      },
      "execution_count": 34,
      "outputs": [
        {
          "output_type": "stream",
          "name": "stdout",
          "text": [
            "{'name': 'Alisha', 'age': 20, 'city': 'meerut'}\n"
          ]
        }
      ]
    },
    {
      "cell_type": "code",
      "source": [
        "#22. Write a code to add a new key-value pair \"country\": \"USA\" to the dictionary {'name': 'John', 'age': 25}.\n",
        "my_dict={'name': 'John', 'age': 25}\n",
        "my_dict['country']='USA'\n",
        "print(my_dict)\n"
      ],
      "metadata": {
        "colab": {
          "base_uri": "https://localhost:8080/"
        },
        "id": "IRQNH3GI0qXk",
        "outputId": "597588e2-57bb-46a8-bd49-adc1552d750a"
      },
      "execution_count": 35,
      "outputs": [
        {
          "output_type": "stream",
          "name": "stdout",
          "text": [
            "{'name': 'John', 'age': 25, 'country': 'USA'}\n"
          ]
        }
      ]
    },
    {
      "cell_type": "code",
      "source": [
        "# 23. Write a code to access the value associated with the key \"name\" in the dictionary {'name': 'Alice', 'age': 30}\n",
        "my_dict={'name': 'Alice', 'age': 30}\n",
        "print(my_dict['name'])"
      ],
      "metadata": {
        "colab": {
          "base_uri": "https://localhost:8080/"
        },
        "id": "ARf6jC7J0qcE",
        "outputId": "62173110-5f85-4d57-9455-ef81a7353a6f"
      },
      "execution_count": 36,
      "outputs": [
        {
          "output_type": "stream",
          "name": "stdout",
          "text": [
            "Alice\n"
          ]
        }
      ]
    },
    {
      "cell_type": "code",
      "source": [
        "# 24. Write a code to remove the key \"age\" from the dictionary {'name': 'Bob', 'age': 22, 'city': 'New York'}\n",
        "my_dict= {'name': 'Bob', 'age': 22, 'city': 'New York'}\n",
        "del my_dict['age']\n",
        "print(my_dict)"
      ],
      "metadata": {
        "colab": {
          "base_uri": "https://localhost:8080/"
        },
        "id": "ONOs2dXv0qtL",
        "outputId": "8a4cc33e-5cd5-4590-b9b1-ee9eb605efda"
      },
      "execution_count": 40,
      "outputs": [
        {
          "output_type": "stream",
          "name": "stdout",
          "text": [
            "{'name': 'Bob', 'city': 'New York'}\n"
          ]
        }
      ]
    },
    {
      "cell_type": "code",
      "source": [
        "# 25. Write a code to check if the key \"city\" exists in the dictionary {'name': 'Alice', 'city': 'Paris'}.\n",
        "my_dict={'name': 'Alice', 'city': 'Paris'}\n",
        "if \"city\" in my_dict:\n",
        "  print(\"city is there\")\n",
        "else:\n",
        "  print(\"city is not there\")\n"
      ],
      "metadata": {
        "colab": {
          "base_uri": "https://localhost:8080/"
        },
        "id": "QX-o9zWa0qwT",
        "outputId": "51b26a3f-9d75-4fa9-ff8b-fa232a6a9073"
      },
      "execution_count": 42,
      "outputs": [
        {
          "output_type": "stream",
          "name": "stdout",
          "text": [
            "city is there\n"
          ]
        }
      ]
    },
    {
      "cell_type": "code",
      "source": [
        "# 26. Write a code to create a list, a tuple, and a dictionary, and print them all.\n",
        "lst=[1,2,3,4]\n",
        "tpl=(1,2,3,4,)\n",
        "my_dict={'name': 'Alice', 'city': 'Paris'}\n",
        "print(type(lst))\n",
        "print(lst)\n",
        "print(type(tpl))\n",
        "print(tpl)\n",
        "print(type(my_dict))\n",
        "print(my_dict)"
      ],
      "metadata": {
        "colab": {
          "base_uri": "https://localhost:8080/"
        },
        "id": "r0V9oITN0rBJ",
        "outputId": "90e1e39e-a622-40a9-ba25-6da6383d2f0d"
      },
      "execution_count": 43,
      "outputs": [
        {
          "output_type": "stream",
          "name": "stdout",
          "text": [
            "<class 'list'>\n",
            "[1, 2, 3, 4]\n",
            "<class 'tuple'>\n",
            "(1, 2, 3, 4)\n",
            "<class 'dict'>\n",
            "{'name': 'Alice', 'city': 'Paris'}\n"
          ]
        }
      ]
    },
    {
      "cell_type": "code",
      "source": [
        "#27. Write a code to create a list of 5 random numbers between 1 and 100, sort it in ascending order, and print the result(replaced).\n",
        "lst=[4,56,34,78,54]\n",
        "lst.sort()\n",
        "print(lst)\n"
      ],
      "metadata": {
        "colab": {
          "base_uri": "https://localhost:8080/"
        },
        "id": "tSXTeSqg0rRc",
        "outputId": "febcfe7a-71eb-4d53-aabf-78e02f8938cd"
      },
      "execution_count": 48,
      "outputs": [
        {
          "output_type": "stream",
          "name": "stdout",
          "text": [
            "[4, 34, 54, 56, 78]\n"
          ]
        }
      ]
    },
    {
      "cell_type": "code",
      "source": [
        "#28. Write a code to create a list with strings and print the element at the third index.\n",
        "lst=[\"Alisha\",\"Hello\",\"world\",\"USA\",\"Elephant\"]\n",
        "print(lst[3])"
      ],
      "metadata": {
        "colab": {
          "base_uri": "https://localhost:8080/"
        },
        "id": "NVDASCKl0rXL",
        "outputId": "b697b6f6-45bc-472d-9ac0-83f360309323"
      },
      "execution_count": 49,
      "outputs": [
        {
          "output_type": "stream",
          "name": "stdout",
          "text": [
            "USA\n"
          ]
        }
      ]
    },
    {
      "cell_type": "code",
      "source": [
        "# 29. Write a code to combine two dictionaries into one and print the result.\n",
        "my_dict1={'name': 'Alice', 'city': 'Paris'}\n",
        "my_dict2={'age': 20, 'country': 'Europe'}\n",
        "combined={**my_dict1,**my_dict2}\n",
        "print(combined)"
      ],
      "metadata": {
        "colab": {
          "base_uri": "https://localhost:8080/"
        },
        "id": "hca_El-J1Rqy",
        "outputId": "780b49d2-6257-48f4-b56b-6ad96988f42f"
      },
      "execution_count": 53,
      "outputs": [
        {
          "output_type": "stream",
          "name": "stdout",
          "text": [
            "{'name': 'Alice', 'city': 'Paris', 'age': 20, 'country': 'Europe'}\n"
          ]
        }
      ]
    },
    {
      "cell_type": "code",
      "source": [
        "# 30. Write a code to convert a list of strings into a set.\n",
        "print(\"Before converting :\")\n",
        "lst=[\"Alisha\",\"Hello\",\"world\",\"USA\",\"Elephant\"]\n",
        "print(type(lst))\n",
        "print(lst)\n",
        "my_set=set(lst)\n",
        "print(\"After converting :\")\n",
        "print(type(my_set))\n",
        "print(my_set)\n"
      ],
      "metadata": {
        "colab": {
          "base_uri": "https://localhost:8080/"
        },
        "id": "6yUPgfXQ0rdk",
        "outputId": "0aa52a54-966d-444d-867b-6453dbc2b4a3"
      },
      "execution_count": 57,
      "outputs": [
        {
          "output_type": "stream",
          "name": "stdout",
          "text": [
            "Before converting :\n",
            "<class 'list'>\n",
            "['Alisha', 'Hello', 'world', 'USA', 'Elephant']\n",
            "After converting :\n",
            "<class 'set'>\n",
            "{'Hello', 'Elephant', 'USA', 'Alisha', 'world'}\n"
          ]
        }
      ]
    }
  ]
}